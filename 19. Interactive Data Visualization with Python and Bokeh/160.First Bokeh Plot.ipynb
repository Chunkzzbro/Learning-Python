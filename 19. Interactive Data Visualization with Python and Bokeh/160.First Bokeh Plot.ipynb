{
 "cells": [
  {
   "cell_type": "code",
   "execution_count": 1,
   "id": "aaff0957",
   "metadata": {},
   "outputs": [
    {
     "data": {
      "text/plain": [
       "['.ipynb_checkpoints', 'Untitled.ipynb']"
      ]
     },
     "execution_count": 1,
     "metadata": {},
     "output_type": "execute_result"
    }
   ],
   "source": [
    "import os \n",
    "os.listdir()"
   ]
  },
  {
   "cell_type": "code",
   "execution_count": 4,
   "id": "24fb71bd",
   "metadata": {},
   "outputs": [],
   "source": [
    "#Making a basic Bokeh Line graph\n",
    "\n",
    "#import bokeh\n",
    "from bokeh.plotting import figure\n",
    "from bokeh.io import output_file, show\n",
    "\n",
    "#Preparing some data.\n",
    "x = [1,2,3,4,5]                                                                   #X-axis of the graph\n",
    "y = [6,7,8,9,10]                                                                  #Y-axis of the graph\n",
    " \n",
    "#Preparing output file:\n",
    "output_file(\"Line.html\")\n",
    "\n",
    "#Creating a figure object\n",
    "f = figure()\n",
    "\n",
    "#Create line plot\n",
    "f.line(x,y)\n",
    "\n",
    "#Write the plot in the figure object\n",
    "show(f)\n",
    "\n"
   ]
  },
  {
   "cell_type": "code",
   "execution_count": null,
   "id": "de1fb09a",
   "metadata": {},
   "outputs": [],
   "source": []
  },
  {
   "cell_type": "code",
   "execution_count": null,
   "id": "e1687c70",
   "metadata": {},
   "outputs": [],
   "source": []
  }
 ],
 "metadata": {
  "kernelspec": {
   "display_name": "Python 3 (ipykernel)",
   "language": "python",
   "name": "python3"
  },
  "language_info": {
   "codemirror_mode": {
    "name": "ipython",
    "version": 3
   },
   "file_extension": ".py",
   "mimetype": "text/x-python",
   "name": "python",
   "nbconvert_exporter": "python",
   "pygments_lexer": "ipython3",
   "version": "3.10.6"
  }
 },
 "nbformat": 4,
 "nbformat_minor": 5
}
