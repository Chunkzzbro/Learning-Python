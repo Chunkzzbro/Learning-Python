{
 "cells": [
  {
   "cell_type": "code",
   "execution_count": 9,
   "id": "688e697a",
   "metadata": {},
   "outputs": [
    {
     "data": {
      "text/plain": [
       "['.ipynb_checkpoints',\n",
       " '160.First Bokeh Plot.ipynb',\n",
       " '161. Exercise_Creating triangle and circle.ipynb',\n",
       " '163.Using Bokeh with pandas.ipynb',\n",
       " '164.Exercise Plotting education graph.ipynb',\n",
       " '168.Plotting Weather Data.ipynb',\n",
       " '169. Solution plotting weather graph.ipynb',\n",
       " '170. Changing Visual Attributes.ipynb',\n",
       " '171.Creating a time_series plot.ipynb',\n",
       " 'adbe.csv',\n",
       " 'bachelors.csv',\n",
       " 'data.txt',\n",
       " 'Education_Graph.html',\n",
       " 'Finance.html',\n",
       " 'Google+Link.txt',\n",
       " 'Line.html',\n",
       " 'motion_detector.ipynb',\n",
       " 'pandas.html',\n",
       " 'Scatter_plotting.html',\n",
       " 'Times.csv',\n",
       " 'Triangle.html',\n",
       " 'Untitled.ipynb',\n",
       " 'verlegenhuken.xlsx',\n",
       " 'Weather.html']"
      ]
     },
     "execution_count": 9,
     "metadata": {},
     "output_type": "execute_result"
    }
   ],
   "source": [
    "import os\n",
    "os.listdir()"
   ]
  },
  {
   "cell_type": "code",
   "execution_count": 10,
   "id": "e8f84b28",
   "metadata": {},
   "outputs": [],
   "source": [
    "from bokeh.plotting import figure\n",
    "from bokeh.io import output_file , show\n",
    "import pandas\n",
    "\n",
    "df = pandas.read_csv(\"adbe.csv\",parse_dates= [\"Date\"])\n",
    "\n",
    "p = figure(width = 500 ,height = 500, x_axis_type = \"datetime\")\n",
    "\n",
    "p.line(df[\"Date\"],df[\"Close\"],color = \"Orange\", alpha = 0.5)\n",
    "\n",
    "output_file (\"Finance.html\")\n",
    "\n",
    "show (p)\n"
   ]
  },
  {
   "cell_type": "code",
   "execution_count": null,
   "id": "233d08c2",
   "metadata": {},
   "outputs": [],
   "source": []
  }
 ],
 "metadata": {
  "kernelspec": {
   "display_name": "Python 3 (ipykernel)",
   "language": "python",
   "name": "python3"
  },
  "language_info": {
   "codemirror_mode": {
    "name": "ipython",
    "version": 3
   },
   "file_extension": ".py",
   "mimetype": "text/x-python",
   "name": "python",
   "nbconvert_exporter": "python",
   "pygments_lexer": "ipython3",
   "version": "3.10.6"
  }
 },
 "nbformat": 4,
 "nbformat_minor": 5
}
