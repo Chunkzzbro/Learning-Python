{
 "cells": [
  {
   "cell_type": "code",
   "execution_count": 2,
   "id": "01c6b8e4",
   "metadata": {},
   "outputs": [
    {
     "data": {
      "text/plain": [
       "['.ipynb_checkpoints',\n",
       " '160.First Bokeh Plot.ipynb',\n",
       " '161. Exercise_Creating triangle and circle.ipynb',\n",
       " '163.Using Bokeh with pandas.ipynb',\n",
       " '164.Exercise Plotting education graph.ipynb',\n",
       " '168.Plotting Weather Data.ipynb',\n",
       " '169. Solution plotting weather graph.ipynb',\n",
       " '170. Changing Visual Attributes.ipynb',\n",
       " '171.Creating a time_series plot.ipynb',\n",
       " 'adbe.csv',\n",
       " 'bachelors.csv',\n",
       " 'data.txt',\n",
       " 'Education_Graph.html',\n",
       " 'Finance.html',\n",
       " 'Google+Link.txt',\n",
       " 'Graph.html',\n",
       " 'Line.html',\n",
       " 'motion_detector.ipynb',\n",
       " 'motion_detector.py',\n",
       " 'pandas.html',\n",
       " 'Scatter_plotting.html',\n",
       " 'Times.csv',\n",
       " 'Triangle.html',\n",
       " 'Untitled.ipynb',\n",
       " 'Untitled1.ipynb',\n",
       " 'verlegenhuken.xlsx',\n",
       " 'Weather.html']"
      ]
     },
     "execution_count": 2,
     "metadata": {},
     "output_type": "execute_result"
    }
   ],
   "source": [
    "import os\n",
    "os.listdir()"
   ]
  },
  {
   "cell_type": "code",
   "execution_count": 7,
   "id": "58a21bfa",
   "metadata": {},
   "outputs": [],
   "source": [
    "from motion_detector import df\n",
    "from bokeh.plotting import figure,output_file,show\n",
    "\n",
    "p = figure(height = 500, width = 500,x_axis_type = \"datetime\")                           \n",
    "p.title.text = \"Motion Graph\"\n",
    "q = p.quad(left = df[\"Start\"], right = df[\"End\"],bottom = 0, top = 1, color = \"green\")\n",
    "\n",
    "output_file(\"Graph.html\")\n",
    "\n",
    "show (p)\n"
   ]
  },
  {
   "cell_type": "code",
   "execution_count": null,
   "id": "ecbb20c9",
   "metadata": {},
   "outputs": [],
   "source": []
  }
 ],
 "metadata": {
  "kernelspec": {
   "display_name": "Python 3 (ipykernel)",
   "language": "python",
   "name": "python3"
  },
  "language_info": {
   "codemirror_mode": {
    "name": "ipython",
    "version": 3
   },
   "file_extension": ".py",
   "mimetype": "text/x-python",
   "name": "python",
   "nbconvert_exporter": "python",
   "pygments_lexer": "ipython3",
   "version": "3.10.6"
  }
 },
 "nbformat": 4,
 "nbformat_minor": 5
}
