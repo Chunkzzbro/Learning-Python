{
 "cells": [
  {
   "cell_type": "code",
   "execution_count": 1,
   "id": "944a87e5",
   "metadata": {},
   "outputs": [
    {
     "data": {
      "text/plain": [
       "['.ipynb_checkpoints',\n",
       " '160.First Bokeh Plot.ipynb',\n",
       " '161. Exercise_Creating triangle and circle.ipynb',\n",
       " '163.Using Bokeh with pandas.ipynb',\n",
       " '164.Exercise Plotting education graph.ipynb',\n",
       " 'bachelors.csv',\n",
       " 'data.txt',\n",
       " 'Line.html',\n",
       " 'pandas.html',\n",
       " 'Triangle.html']"
      ]
     },
     "execution_count": 1,
     "metadata": {},
     "output_type": "execute_result"
    }
   ],
   "source": [
    "import os \n",
    "os.listdir()"
   ]
  },
  {
   "cell_type": "code",
   "execution_count": 1,
   "id": "fff7a75b",
   "metadata": {},
   "outputs": [],
   "source": [
    "from bokeh.plotting import figure\n",
    "from bokeh.io import output_file , show\n",
    "import pandas\n",
    "\n",
    "df = pandas.read_csv(\"bachelors.csv\")\n",
    "\n",
    "x = df[\"Year\"]\n",
    "y = df[\"Engineering\"]\n",
    "\n",
    "output_file (\"Education_Graph.html\")\n",
    "f = figure()\n",
    "\n",
    "f.line(x,y)\n",
    "\n",
    "show (f)"
   ]
  },
  {
   "cell_type": "code",
   "execution_count": null,
   "id": "8bcf0785",
   "metadata": {},
   "outputs": [],
   "source": []
  }
 ],
 "metadata": {
  "kernelspec": {
   "display_name": "Python 3 (ipykernel)",
   "language": "python",
   "name": "python3"
  },
  "language_info": {
   "codemirror_mode": {
    "name": "ipython",
    "version": 3
   },
   "file_extension": ".py",
   "mimetype": "text/x-python",
   "name": "python",
   "nbconvert_exporter": "python",
   "pygments_lexer": "ipython3",
   "version": "3.10.6"
  }
 },
 "nbformat": 4,
 "nbformat_minor": 5
}
