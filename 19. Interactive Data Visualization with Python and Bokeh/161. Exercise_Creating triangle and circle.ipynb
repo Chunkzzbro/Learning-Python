{
 "cells": [
  {
   "cell_type": "code",
   "execution_count": 1,
   "id": "5df5d073",
   "metadata": {},
   "outputs": [
    {
     "data": {
      "text/plain": [
       "['.ipynb_checkpoints',\n",
       " '160.First Bokeh Plot.ipynb',\n",
       " '161. Exercise_Creating triangle and circle.ipynb',\n",
       " 'Line.html']"
      ]
     },
     "execution_count": 1,
     "metadata": {},
     "output_type": "execute_result"
    }
   ],
   "source": [
    "import os\n",
    "os.listdir()"
   ]
  },
  {
   "cell_type": "code",
   "execution_count": 4,
   "id": "34d198d3",
   "metadata": {},
   "outputs": [],
   "source": [
    "from bokeh.plotting import figure\n",
    "from bokeh.io import output_file, show\n",
    "\n",
    "x = [3,7.5,10]\n",
    "y = [3,6,9]\n",
    "\n",
    "output_file (\"Triangle.html\")\n",
    "\n",
    "f = figure()\n",
    "\n",
    "f.triangle(x,y)\n",
    "show(f)\n",
    "\n",
    "\n",
    "f.circle(x,y)\n",
    "show(f)"
   ]
  },
  {
   "cell_type": "code",
   "execution_count": null,
   "id": "be16500f",
   "metadata": {},
   "outputs": [],
   "source": []
  }
 ],
 "metadata": {
  "kernelspec": {
   "display_name": "Python 3 (ipykernel)",
   "language": "python",
   "name": "python3"
  },
  "language_info": {
   "codemirror_mode": {
    "name": "ipython",
    "version": 3
   },
   "file_extension": ".py",
   "mimetype": "text/x-python",
   "name": "python",
   "nbconvert_exporter": "python",
   "pygments_lexer": "ipython3",
   "version": "3.10.6"
  }
 },
 "nbformat": 4,
 "nbformat_minor": 5
}
