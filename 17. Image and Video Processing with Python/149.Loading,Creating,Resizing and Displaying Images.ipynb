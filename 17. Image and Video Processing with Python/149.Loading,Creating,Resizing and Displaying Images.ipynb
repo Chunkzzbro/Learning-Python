{
 "cells": [
  {
   "cell_type": "code",
   "execution_count": 1,
   "id": "1da7f05d",
   "metadata": {},
   "outputs": [
    {
     "data": {
      "text/plain": [
       "['.ipynb_checkpoints',\n",
       " 'galaxy.jpg',\n",
       " 'haarcascade_frontalface_default.xml',\n",
       " 'kangaroos-rain-australia_71370_990x742.jpg',\n",
       " 'Lighthouse.jpg',\n",
       " 'Moon sinking, sun rising.jpg',\n",
       " 'news.jpg',\n",
       " 'photo.jpg',\n",
       " 'Untitled1.ipynb']"
      ]
     },
     "execution_count": 1,
     "metadata": {},
     "output_type": "execute_result"
    }
   ],
   "source": [
    "import os\n",
    "os.listdir()"
   ]
  },
  {
   "cell_type": "code",
   "execution_count": 2,
   "id": "08f10b93",
   "metadata": {},
   "outputs": [
    {
     "data": {
      "text/plain": [
       "array([[14, 18, 14, ..., 20, 15, 16],\n",
       "       [12, 16, 12, ..., 20, 15, 17],\n",
       "       [12, 13, 16, ..., 14, 24, 21],\n",
       "       ...,\n",
       "       [ 0,  0,  0, ...,  5,  8, 14],\n",
       "       [ 0,  0,  0, ...,  2,  3,  9],\n",
       "       [ 1,  1,  1, ...,  1,  1,  3]], dtype=uint8)"
      ]
     },
     "execution_count": 2,
     "metadata": {},
     "output_type": "execute_result"
    }
   ],
   "source": [
    "import cv2\n",
    "img = cv2.imread(\"galaxy.jpg\",0)\n",
    "img\n"
   ]
  },
  {
   "cell_type": "code",
   "execution_count": 5,
   "id": "7d50aba3",
   "metadata": {},
   "outputs": [
    {
     "name": "stdout",
     "output_type": "stream",
     "text": [
      "<class 'numpy.ndarray'>\n"
     ]
    }
   ],
   "source": [
    "print(type(img))"
   ]
  },
  {
   "cell_type": "code",
   "execution_count": 6,
   "id": "0767fd00",
   "metadata": {},
   "outputs": [
    {
     "name": "stdout",
     "output_type": "stream",
     "text": [
      "(1485, 990)\n"
     ]
    }
   ],
   "source": [
    "print(img.shape)"
   ]
  },
  {
   "cell_type": "code",
   "execution_count": 7,
   "id": "783df1e4",
   "metadata": {},
   "outputs": [
    {
     "name": "stdout",
     "output_type": "stream",
     "text": [
      "2\n"
     ]
    }
   ],
   "source": [
    "print (img.ndim)"
   ]
  },
  {
   "cell_type": "code",
   "execution_count": 9,
   "id": "a55369d5",
   "metadata": {},
   "outputs": [
    {
     "data": {
      "text/plain": [
       "array([[[19, 15, 10],\n",
       "        [23, 19, 14],\n",
       "        [21, 15,  8],\n",
       "        ...,\n",
       "        [27, 22, 13],\n",
       "        [22, 17,  8],\n",
       "        [23, 18,  9]],\n",
       "\n",
       "       [[17, 13,  8],\n",
       "        [21, 17, 12],\n",
       "        [19, 13,  6],\n",
       "        ...,\n",
       "        [27, 22, 13],\n",
       "        [22, 17,  8],\n",
       "        [24, 19, 10]],\n",
       "\n",
       "       [[17, 14,  6],\n",
       "        [18, 15,  7],\n",
       "        [21, 18, 10],\n",
       "        ...,\n",
       "        [23, 16,  7],\n",
       "        [33, 26, 17],\n",
       "        [30, 23, 14]],\n",
       "\n",
       "       ...,\n",
       "\n",
       "       [[ 0,  0,  0],\n",
       "        [ 0,  0,  0],\n",
       "        [ 0,  0,  0],\n",
       "        ...,\n",
       "        [ 5,  5,  5],\n",
       "        [ 8,  8,  8],\n",
       "        [14, 14, 14]],\n",
       "\n",
       "       [[ 0,  0,  0],\n",
       "        [ 0,  0,  0],\n",
       "        [ 0,  0,  0],\n",
       "        ...,\n",
       "        [ 2,  2,  2],\n",
       "        [ 3,  3,  3],\n",
       "        [ 9,  9,  9]],\n",
       "\n",
       "       [[ 1,  1,  1],\n",
       "        [ 1,  1,  1],\n",
       "        [ 1,  1,  1],\n",
       "        ...,\n",
       "        [ 1,  1,  1],\n",
       "        [ 1,  1,  1],\n",
       "        [ 3,  3,  3]]], dtype=uint8)"
      ]
     },
     "execution_count": 9,
     "metadata": {},
     "output_type": "execute_result"
    }
   ],
   "source": [
    "img1 = cv2.imread(\"galaxy.jpg\",1)\n",
    "img1"
   ]
  },
  {
   "cell_type": "code",
   "execution_count": 10,
   "id": "1f9c2f08",
   "metadata": {},
   "outputs": [
    {
     "name": "stdout",
     "output_type": "stream",
     "text": [
      "<class 'numpy.ndarray'>\n"
     ]
    }
   ],
   "source": [
    "print(type(img1))"
   ]
  },
  {
   "cell_type": "code",
   "execution_count": 11,
   "id": "a826301a",
   "metadata": {},
   "outputs": [
    {
     "name": "stdout",
     "output_type": "stream",
     "text": [
      "(1485, 990, 3)\n"
     ]
    }
   ],
   "source": [
    "print(img1.shape)"
   ]
  },
  {
   "cell_type": "code",
   "execution_count": 13,
   "id": "388b1b58",
   "metadata": {},
   "outputs": [
    {
     "name": "stdout",
     "output_type": "stream",
     "text": [
      "3\n"
     ]
    }
   ],
   "source": [
    "print(img1.ndim)"
   ]
  },
  {
   "cell_type": "code",
   "execution_count": 17,
   "id": "a103cbcf",
   "metadata": {},
   "outputs": [],
   "source": [
    "cv2.imshow(\"Galaxy\",img)\n",
    "\n",
    "cv2.waitKey(0) \n",
    "\n",
    "#if user uses 0 in waitKey it means that the user can close all windows by just pressing any key. For timed waiting the values \n",
    "#is put in millisecond. Meaning when the value is put 2000 then it will wait for 2 seconds before it closes the file.\n",
    "\n",
    "cv2.destroyAllWindows()\n"
   ]
  },
  {
   "cell_type": "code",
   "execution_count": 4,
   "id": "7a770927",
   "metadata": {},
   "outputs": [],
   "source": [
    "#Resized Image : \n",
    "\n",
    "resized_image = cv2.resize(img,(1000,500))\n",
    "\n",
    "cv2.imshow(\"Resized Galaxy\",resized_image)\n",
    "cv2.waitKey(0)\n",
    "cv2.destroyAllWindows()"
   ]
  },
  {
   "cell_type": "code",
   "execution_count": 9,
   "id": "8c8979a3",
   "metadata": {},
   "outputs": [],
   "source": [
    "#To Gather the image with original dimensions or make something similar to it you can use \".shape\" function\n",
    "\n",
    "resize = cv2.resize (img,(int(img.shape[1]/2),int(img.shape[0]/2)))\n",
    "\n",
    "cv2.imshow(\"Resized Galaxy\",resize)\n",
    "cv2.waitKey(0)\n",
    "cv2.destroyAllWindows()"
   ]
  },
  {
   "cell_type": "code",
   "execution_count": 10,
   "id": "74bc865c",
   "metadata": {},
   "outputs": [
    {
     "data": {
      "text/plain": [
       "True"
      ]
     },
     "execution_count": 10,
     "metadata": {},
     "output_type": "execute_result"
    }
   ],
   "source": [
    "#Saving Image into a new file:\n",
    "\n",
    "cv2.imwrite(\"Galaxy_Resized.jpg\",resize)"
   ]
  },
  {
   "cell_type": "code",
   "execution_count": null,
   "id": "dddad070",
   "metadata": {},
   "outputs": [],
   "source": []
  }
 ],
 "metadata": {
  "kernelspec": {
   "display_name": "Python 3 (ipykernel)",
   "language": "python",
   "name": "python3"
  },
  "language_info": {
   "codemirror_mode": {
    "name": "ipython",
    "version": 3
   },
   "file_extension": ".py",
   "mimetype": "text/x-python",
   "name": "python",
   "nbconvert_exporter": "python",
   "pygments_lexer": "ipython3",
   "version": "3.10.6"
  }
 },
 "nbformat": 4,
 "nbformat_minor": 5
}
