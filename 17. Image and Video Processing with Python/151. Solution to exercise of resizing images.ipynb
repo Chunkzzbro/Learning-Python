{
 "cells": [
  {
   "cell_type": "code",
   "execution_count": 5,
   "id": "28058584",
   "metadata": {},
   "outputs": [],
   "source": [
    "#  I first created a list containing the image file paths and then iterated through the aforementioned list.\n",
    "\n",
    "#  The loop: reads each image, resizes, displays the image, waits for the user input key, closes the window once \n",
    "#  the key is pressed, and writes the resized image. The name of the resized image will be \"resized\" plus the \n",
    "#  existing file name of the original image.\n",
    "\n",
    "import cv2\n",
    "import glob\n",
    "\n",
    "images=glob.glob(\"*.jpg\")\n",
    "\n",
    "for image in images:\n",
    "    img=cv2.imread(image,0)\n",
    "    re=cv2.resize(img,(100,100))\n",
    "    cv2.imshow(\"Hey\",re)\n",
    "    cv2.waitKey(3000)\n",
    "    cv2.destroyAllWindows()"
   ]
  },
  {
   "cell_type": "code",
   "execution_count": 4,
   "id": "d2f90426",
   "metadata": {},
   "outputs": [
    {
     "name": "stdout",
     "output_type": "stream",
     "text": [
      "Help on function glob in module glob:\n",
      "\n",
      "glob(pathname, *, root_dir=None, dir_fd=None, recursive=False)\n",
      "    Return a list of paths matching a pathname pattern.\n",
      "    \n",
      "    The pattern may contain simple shell-style wildcards a la\n",
      "    fnmatch. However, unlike fnmatch, filenames starting with a\n",
      "    dot are special cases that are not matched by '*' and '?'\n",
      "    patterns.\n",
      "    \n",
      "    If recursive is true, the pattern '**' will match any files and\n",
      "    zero or more directories and subdirectories.\n",
      "\n"
     ]
    }
   ],
   "source": [
    "help(glob.glob)"
   ]
  },
  {
   "cell_type": "code",
   "execution_count": null,
   "id": "4589ce39",
   "metadata": {},
   "outputs": [],
   "source": []
  }
 ],
 "metadata": {
  "kernelspec": {
   "display_name": "Python 3 (ipykernel)",
   "language": "python",
   "name": "python3"
  },
  "language_info": {
   "codemirror_mode": {
    "name": "ipython",
    "version": 3
   },
   "file_extension": ".py",
   "mimetype": "text/x-python",
   "name": "python",
   "nbconvert_exporter": "python",
   "pygments_lexer": "ipython3",
   "version": "3.10.6"
  }
 },
 "nbformat": 4,
 "nbformat_minor": 5
}
