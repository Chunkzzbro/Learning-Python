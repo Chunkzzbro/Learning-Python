{
 "cells": [
  {
   "cell_type": "code",
   "execution_count": 1,
   "id": "aa1281c9",
   "metadata": {},
   "outputs": [
    {
     "data": {
      "text/plain": [
       "['.ipynb_checkpoints',\n",
       " '149.Loading,Creating,Resizing and Displaying Images.ipynb',\n",
       " '150. Resizing Exercise.ipynb',\n",
       " 'galaxy.jpg',\n",
       " 'Galaxy_Resized.jpg',\n",
       " 'haarcascade_frontalface_default.xml',\n",
       " 'kangaroos-rain-australia_71370_990x742.jpg',\n",
       " 'Lighthouse.jpg',\n",
       " 'Moon sinking, sun rising.jpg',\n",
       " 'news.jpg',\n",
       " 'photo.jpg']"
      ]
     },
     "execution_count": 1,
     "metadata": {},
     "output_type": "execute_result"
    }
   ],
   "source": [
    "import os\n",
    "os.listdir()"
   ]
  },
  {
   "cell_type": "code",
   "execution_count": 2,
   "id": "aec8876c",
   "metadata": {},
   "outputs": [],
   "source": [
    "import cv2"
   ]
  },
  {
   "cell_type": "code",
   "execution_count": 13,
   "id": "334a18dd",
   "metadata": {},
   "outputs": [],
   "source": [
    "img = cv2.imread(\"galaxy.jpg\",0)\n",
    "img2 = cv2.imread(\"kangaroos-rain-australia_71370_990x742.jpg\",0)\n",
    "img3 = cv2.imread(\"Lighthouse.jpg\",0)\n",
    "img4 = cv2.imread(\"Moon sinking, sun rising.jpg\",0)\n",
    "\n",
    "\n",
    "\n",
    "resize_img = cv2.resize(img,(100,100))\n",
    "cv2.imshow(\"Resized Galaxy\",resize_img)\n",
    "cv2.waitKey(0)\n",
    "cv2.destroyAllWindows()\n",
    "\n",
    "\n",
    "resize_img2 = cv2.resize(img2,(100,100))\n",
    "cv2.imshow(\"Resized Kangaroos\",resize_img2)\n",
    "cv2.waitKey(0)\n",
    "cv2.destroyAllWindows()\n",
    "\n",
    "\n",
    "resize_img3 = cv2.resize(img3,(100,100))\n",
    "cv2.imshow(\"Resized Lighthouse\",resize_img3)\n",
    "cv2.waitKey(0)\n",
    "cv2.destroyAllWindows()\n",
    "\n",
    "\n",
    "resize_img4 = cv2.resize(img4,(100,100))\n",
    "cv2.imshow(\"Resized Moon\",resize_img4)\n",
    "cv2.waitKey(0)\n",
    "cv2.destroyAllWindows()\n",
    "\n"
   ]
  }
 ],
 "metadata": {
  "kernelspec": {
   "display_name": "Python 3 (ipykernel)",
   "language": "python",
   "name": "python3"
  },
  "language_info": {
   "codemirror_mode": {
    "name": "ipython",
    "version": 3
   },
   "file_extension": ".py",
   "mimetype": "text/x-python",
   "name": "python",
   "nbconvert_exporter": "python",
   "pygments_lexer": "ipython3",
   "version": "3.10.6"
  }
 },
 "nbformat": 4,
 "nbformat_minor": 5
}
