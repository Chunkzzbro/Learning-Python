{
 "cells": [
  {
   "cell_type": "code",
   "execution_count": 1,
   "id": "0d6ecd10",
   "metadata": {},
   "outputs": [
    {
     "data": {
      "text/plain": [
       "['.ipynb_checkpoints',\n",
       " '149.Loading,Creating,Resizing and Displaying Images.ipynb',\n",
       " '150. Resizing Exercise.ipynb',\n",
       " '151. Solution to exercise of resizing images.ipynb',\n",
       " '152.Detecting Faces in Python.ipynb',\n",
       " 'galaxy.jpg',\n",
       " 'Galaxy_Resized.jpg',\n",
       " 'haarcascade_frontalface_default.xml',\n",
       " 'kangaroos-rain-australia_71370_990x742.jpg',\n",
       " 'Lighthouse.jpg',\n",
       " 'Moon sinking, sun rising.jpg',\n",
       " 'news.jpg',\n",
       " 'photo.jpg']"
      ]
     },
     "execution_count": 1,
     "metadata": {},
     "output_type": "execute_result"
    }
   ],
   "source": [
    "import os\n",
    "os.listdir()"
   ]
  },
  {
   "cell_type": "code",
   "execution_count": 11,
   "id": "3e048349",
   "metadata": {},
   "outputs": [],
   "source": [
    "import cv2\n",
    "\n",
    "#Reading that cascade \"haarcascade\"\n",
    "\n",
    "face_cascade = cv2.CascadeClassifier(\"haarcascade_frontalface_default.xml\")\n",
    "img = cv2.imread(\"photo.jpg\",1)\n",
    "img_gray = cv2.imread(\"photo.jpg\",0)\n"
   ]
  },
  {
   "cell_type": "code",
   "execution_count": 12,
   "id": "f549cef3",
   "metadata": {},
   "outputs": [
    {
     "name": "stdout",
     "output_type": "stream",
     "text": [
      "<class 'numpy.ndarray'>\n",
      "[[157  84 379 379]]\n"
     ]
    }
   ],
   "source": [
    "#Detecting face:\n",
    "\n",
    "faces = face_cascade.detectMultiScale(img,scaleFactor = 1.05, minNeighbors = 5)\n",
    "\n",
    "print(type(faces))\n",
    "print(faces)\n",
    "\n",
    "#The numpy array represented below has values as follows : \n",
    "#    157  = Starting x point\n",
    "#    84   = Starting y point\n",
    "#    379  = Width\n",
    "#    379  = height\n"
   ]
  },
  {
   "cell_type": "code",
   "execution_count": 17,
   "id": "f4fa8402",
   "metadata": {},
   "outputs": [],
   "source": [
    "#Making a rectange to display the boundaries of the face in the image : \n",
    "#   x = starting x point from numpy array\n",
    "#   y = starting y point from numpy array\n",
    "#   w = width \n",
    "#   h = height\n",
    "\n",
    "\n",
    "\n",
    "for x,y,w,h in faces:\n",
    "    img_up = cv2.rectangle(img,(x,y),(x+w,y+h),(0,255,0),3) \n",
    "    cv2.imwrite(\"Face tracking image.jpg\", img_up)\n",
    "    \n",
    "#Here the parameters entered is as follows:\n",
    "#   img     = the image to which the rectangle is to be added\n",
    "#   x,y     = Start point\n",
    "#   x+w,y+h = End point \n",
    "#   0,255,0 = The values of RBG scale which is used to denote the colour of the rectange to be formed.(here it is green)\n",
    "#   3       = The width of the rectange\n",
    "\n"
   ]
  },
  {
   "cell_type": "code",
   "execution_count": 19,
   "id": "4440ba58",
   "metadata": {},
   "outputs": [],
   "source": [
    "#Representing updated image : \n",
    "\n",
    "img_updated = cv2.imread(\"Face tracking image.jpg\",1)\n",
    "\n",
    "cv2.imshow(\"Face\",img_updated)\n",
    "cv2.waitKey(0)\n",
    "cv2.destroyAllWindows()\n"
   ]
  },
  {
   "cell_type": "code",
   "execution_count": null,
   "id": "803d6dd0",
   "metadata": {},
   "outputs": [],
   "source": []
  }
 ],
 "metadata": {
  "kernelspec": {
   "display_name": "Python 3 (ipykernel)",
   "language": "python",
   "name": "python3"
  },
  "language_info": {
   "codemirror_mode": {
    "name": "ipython",
    "version": 3
   },
   "file_extension": ".py",
   "mimetype": "text/x-python",
   "name": "python",
   "nbconvert_exporter": "python",
   "pygments_lexer": "ipython3",
   "version": "3.10.6"
  }
 },
 "nbformat": 4,
 "nbformat_minor": 5
}
